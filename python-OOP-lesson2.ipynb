{
 "cells": [
  {
   "cell_type": "code",
   "execution_count": 10,
   "id": "39c18ecd",
   "metadata": {},
   "outputs": [],
   "source": [
    "from selenium import webdriver\n",
    "from selenium.webdriver.chrome.options import Options\n",
    "from selenium.webdriver.common.by import By\n",
    "from selenium.webdriver.chrome.service import Service"
   ]
  },
  {
   "cell_type": "code",
   "execution_count": 11,
   "id": "c93b115c",
   "metadata": {},
   "outputs": [],
   "source": [
    "chr_options = Options()\n",
    "chr_options.add_argument(\"--start-maximized\")\n",
    "s = Service(r'C:\\Users\\popov\\Documents\\Jupyter\\chromedriver.exe')\n",
    "driver = webdriver.Chrome(service=s, options=chr_options)"
   ]
  },
  {
   "cell_type": "code",
   "execution_count": 12,
   "id": "592c95b8",
   "metadata": {},
   "outputs": [],
   "source": [
    "link = f'https://www.flashscore.com.ua/'\n",
    "driver.get(link)"
   ]
  },
  {
   "cell_type": "code",
   "execution_count": 13,
   "id": "c5183c70",
   "metadata": {},
   "outputs": [],
   "source": [
    "driver_m = driver.find_elements(By.CLASS_NAME, 'event__match.event__match--twoLine')"
   ]
  },
  {
   "cell_type": "code",
   "execution_count": 14,
   "id": "22b524a8",
   "metadata": {},
   "outputs": [],
   "source": [
    "import pandas as pd"
   ]
  },
  {
   "cell_type": "code",
   "execution_count": 15,
   "id": "e47ed1b6",
   "metadata": {},
   "outputs": [],
   "source": [
    "match_sp = []\n",
    "for match in driver_m:\n",
    "\tmatch_sp.append(match.text.splitlines())"
   ]
  },
  {
   "cell_type": "code",
   "execution_count": 16,
   "id": "204919f0",
   "metadata": {},
   "outputs": [],
   "source": [
    "sp_columns = ['status','team_1','team_2','g_1','g_2','first_time_1','first_time_2','sl_1','sl_2']\n",
    "result = pd.DataFrame(match_sp,columns = sp_columns)\n",
    "result = result.drop(['sl_1','sl_2'],axis = 1)\n",
    "result = result.loc[result['status']=='Завершен']\n",
    "result.to_excel('parsing_match.xlsx', index = False)"
   ]
  },
  {
   "cell_type": "code",
   "execution_count": null,
   "id": "8c34041b",
   "metadata": {},
   "outputs": [],
   "source": []
  }
 ],
 "metadata": {
  "kernelspec": {
   "display_name": "Python 3 (ipykernel)",
   "language": "python",
   "name": "python3"
  },
  "language_info": {
   "codemirror_mode": {
    "name": "ipython",
    "version": 3
   },
   "file_extension": ".py",
   "mimetype": "text/x-python",
   "name": "python",
   "nbconvert_exporter": "python",
   "pygments_lexer": "ipython3",
   "version": "3.11.0"
  }
 },
 "nbformat": 4,
 "nbformat_minor": 5
}
